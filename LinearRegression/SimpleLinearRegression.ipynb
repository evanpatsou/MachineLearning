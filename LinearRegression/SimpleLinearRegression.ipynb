{
 "cells": [
  {
   "cell_type": "markdown",
   "metadata": {},
   "source": [
    "#  Learn the theory of Linear Regression with python implementation"
   ]
  },
  {
   "cell_type": "markdown",
   "metadata": {},
   "source": [
    "## What is a linear regression?"
   ]
  },
  {
   "cell_type": "markdown",
   "metadata": {},
   "source": [
    "Linear regression is a statistical procedure for finding the relationship between two (or more) continuous quantitative variables. For example, a real estate agent knows that the square footage of the house is related to the price of the property. **Machine learning** embraced this idea and used it to predict an unknown quantity (called a dependent variable) from known quantities of another variable (called an independent or predictor variable). That means that if we know the square footage of a house, we can predict the cost of it. "
   ]
  },
  {
   "cell_type": "markdown",
   "metadata": {},
   "source": [
    "When it comes to **relationships**, there are *three types*. We have already discussed the **statistical relationship** in the example of houses. It is a combination of **deterministic** and **random relationship** and is the most common due to it approach more the daily life problems. The deterministic relation is a perfect prediction of the dependent variable. These can be mathematical equations such as $Fahrenheit = 1.8*Celsius+32$. Random relationships, on the other hand, are those in which there are no relationships between variables."
   ]
  },
  {
   "cell_type": "markdown",
   "metadata": {},
   "source": [
    "![Deterministic vs Statistical relationship](images/deterministicVSstatistical.jpeg \"Deterministic vs Statistical relationship\")"
   ]
  },
  {
   "cell_type": "markdown",
   "metadata": {},
   "source": [
    "## Linear regression intuition"
   ]
  },
  {
   "cell_type": "markdown",
   "metadata": {},
   "source": [
    "In machine learning we call the simplest model of linear regression, simple linear regression. Let's apply this model to our first example, the prediction of house pricing. In our assumption a friend of ours want to sell his house of 1000 square feet and he wants us to predict an estimation of the price. So, how you start?\n",
    "\n",
    "First of all, we need to collect data on homes for sale in the same neighborhood as our friend's property. "
   ]
  },
  {
   "cell_type": "code",
   "execution_count": 1,
   "metadata": {},
   "outputs": [
    {
     "data": {
      "text/html": [
       "<div>\n",
       "<style scoped>\n",
       "    .dataframe tbody tr th:only-of-type {\n",
       "        vertical-align: middle;\n",
       "    }\n",
       "\n",
       "    .dataframe tbody tr th {\n",
       "        vertical-align: top;\n",
       "    }\n",
       "\n",
       "    .dataframe thead th {\n",
       "        text-align: right;\n",
       "    }\n",
       "</style>\n",
       "<table border=\"1\" class=\"dataframe\">\n",
       "  <thead>\n",
       "    <tr style=\"text-align: right;\">\n",
       "      <th></th>\n",
       "      <th>sqft</th>\n",
       "      <th>price</th>\n",
       "    </tr>\n",
       "  </thead>\n",
       "  <tbody>\n",
       "    <tr>\n",
       "      <th>0</th>\n",
       "      <td>10655</td>\n",
       "      <td>284.0</td>\n",
       "    </tr>\n",
       "    <tr>\n",
       "      <th>1</th>\n",
       "      <td>10000</td>\n",
       "      <td>16.0</td>\n",
       "    </tr>\n",
       "    <tr>\n",
       "      <th>2</th>\n",
       "      <td>7000</td>\n",
       "      <td>136.5</td>\n",
       "    </tr>\n",
       "    <tr>\n",
       "      <th>3</th>\n",
       "      <td>9179</td>\n",
       "      <td>193.0</td>\n",
       "    </tr>\n",
       "    <tr>\n",
       "      <th>4</th>\n",
       "      <td>10400</td>\n",
       "      <td>174.0</td>\n",
       "    </tr>\n",
       "  </tbody>\n",
       "</table>\n",
       "</div>"
      ],
      "text/plain": [
       "    sqft  price\n",
       "0  10655  284.0\n",
       "1  10000   16.0\n",
       "2   7000  136.5\n",
       "3   9179  193.0\n",
       "4  10400  174.0"
      ]
     },
     "execution_count": 1,
     "metadata": {},
     "output_type": "execute_result"
    }
   ],
   "source": [
    "# Import the required libraries\n",
    "#\n",
    "# import pandas\n",
    "import pandas as pd\n",
    "# import numpy\n",
    "import numpy as np\n",
    "np.seterr(all='warn')\n",
    "\n",
    "# import matplotlib for visualization \n",
    "import matplotlib.pyplot as plt\n",
    "\n",
    "# Read your collected data\n",
    "data = pd.read_csv(\"houses_price_sqft.csv\")\n",
    "\n",
    "# Project the first 5 rows of your data\n",
    "data.head()"
   ]
  },
  {
   "cell_type": "markdown",
   "metadata": {},
   "source": [
    "Once we have done that we are able to plot the data on a scatter plot:"
   ]
  },
  {
   "cell_type": "code",
   "execution_count": 2,
   "metadata": {},
   "outputs": [
    {
     "data": {
      "image/png": "[encoded data removed]",
      "text/plain": [
       "<Figure size 432x288 with 1 Axes>"
      ]
     },
     "metadata": {
      "needs_background": "light"
     },
     "output_type": "display_data"
    }
   ],
   "source": [
    "# Scatter plot\n",
    "# Square footage vs Price\n",
    "\n",
    "plt.scatter(data[\"sqft\"], data[\"price\"])\n",
    "plt.title(\"Square footage vs Price\")\n",
    "plt.xlabel(\"sqft\")\n",
    "plt.ylabel(\"price\")\n",
    "plt.show()"
   ]
  },
  {
   "cell_type": "markdown",
   "metadata": {},
   "source": [
    "By designing this plot, we have a visual representation of the dependent variable value and the independent variable, which is the square footage. Now the only part that is missing from our problem is to find a formula to predict the house price based on the data we have collected. And such a formula could be similar like the Fahrenheit conversion into Celsius.\n",
    "\n",
    "Therefore, we need to convert this equation of:\n",
    "\n",
    "\\begin{equation}\n",
    "Fahrenheit = 1.8 * Celsius + 32\n",
    "\\end{equation}"
   ]
  },
  {
   "cell_type": "markdown",
   "metadata": {},
   "source": [
    "to a house price prediction one:"
   ]
  },
  {
   "cell_type": "markdown",
   "metadata": {},
   "source": [
    "\\begin{equation}\n",
    "price = a * sqft + b\n",
    "\\end{equation}\n",
    "\n",
    "where:\n",
    "\n",
    "* a = slope of the line\n",
    "* b = Y-intercept of the line\n",
    "* price = Y coordinate of the point from which the line passes through\n",
    "* sqft = X coordinate of the point from which the line passes through"
   ]
  },
  {
   "cell_type": "markdown",
   "metadata": {},
   "source": [
    "This formula in the world of machine learning is called a hypothesis. It is a Greek word(\"υπόθεση\"), and its semantic meaning is \"an idea or explanation for something based on known facts\". The symbol we use to indicate that this function is a hypothesis is the letter h. Therefore, our formula can be $h(x) = a * x + b $."
   ]
  },
  {
   "cell_type": "markdown",
   "metadata": {},
   "source": [
    "## The slope and the intercept point\n",
    "\n",
    "As a coefficient of direction or as the inclination of a line, we define the slope of the angle of the line formed by a with the x'x axis. The direction coefficient of the line is positive if the angle is acute, negative if the angle is obtuse and zero if the angle is zero. In the case where the angle is equal to 90 °, i.e. when the line is perpendicular to the x'x axis, we do not define a steering coefficient a."
   ]
  },
  {
   "cell_type": "markdown",
   "metadata": {},
   "source": [
    "![Slope types](images/slopes.png \"Slope types\")"
   ]
  },
  {
   "cell_type": "markdown",
   "metadata": {},
   "source": [
    "We can calculate the slope if we know two coordinates (x1, y1), (x2, y2) by solving the equation:"
   ]
  },
  {
   "cell_type": "markdown",
   "metadata": {},
   "source": [
    "\\begin{equation}\n",
    "a = \\frac{y_2 - y_1}{x_2 - x_1}\n",
    "\\end{equation}"
   ]
  },
  {
   "cell_type": "markdown",
   "metadata": {},
   "source": [
    "For example, let's grap the first 2 entries:\n",
    "\n",
    "\\begin{align*}\n",
    "(x1, y1) = (10655, 284) && (x2, y2) = (10000, 160) \\\\ \\\\\n",
    "\\end{align*}\n",
    "\n",
    "\\begin{equation} \\label{eq1}\n",
    "\\begin{split}\n",
    "a & = \\frac{160 - 284}{10000 - 10655} \\\\ \\\\\n",
    " & = \\frac{124}{655} \\\\ \\\\\n",
    " & = 0.19\n",
    "\\end{split}\n",
    "\\end{equation}\n",
    "\n"
   ]
  },
  {
   "cell_type": "markdown",
   "metadata": {},
   "source": [
    "And since we know all the other variables by choosing a coordinate we can solve $b = y_1 - a * x_1$ to find the intercept and the hypothesis will be completed."
   ]
  },
  {
   "cell_type": "markdown",
   "metadata": {},
   "source": [
    "\\begin{equation} \\label{eq1}\n",
    "\\begin{split}\n",
    "b & = y_1 - a * x_1 \\\\ \\\\\n",
    " & = 284 - 0.19*10655 \\\\ \\\\\n",
    " & = -1740.45 \\\\ \\\\ \n",
    "\\end{split}\n",
    "\\end{equation}\n",
    "\n",
    "Notice that we can use any of the points to calculate the intercept value. The answer to the slope will always be the same for the same straight line. Next, since we have all our parameters, we can write the equation of line as:\n",
    "\n",
    "\\begin{equation}\n",
    "\\tag*{,where x is the sqft} h(x) = 0.19 * x -1740.45\n",
    "\\end{equation}\n"
   ]
  },
  {
   "cell_type": "code",
   "execution_count": 3,
   "metadata": {},
   "outputs": [
    {
     "data": {
      "image/png": "[encoded data removed]",
      "text/plain": [
       "<Figure size 432x288 with 1 Axes>"
      ]
     },
     "metadata": {
      "needs_background": "light"
     },
     "output_type": "display_data"
    }
   ],
   "source": [
    "plt.scatter(data[\"sqft\"], data[\"price\"])\n",
    "plt.ylim(-50, 800)\n",
    "plt.xlim(0, 50000)\n",
    "plt.plot([1300, 50000],[-1493.45, 7759.55],color=\"red\")\n",
    "plt.title(\"Square footage vs Price in 1000's\")\n",
    "plt.xlabel(\"sqft\")\n",
    "plt.ylabel(\"price\")\n",
    "plt.show()"
   ]
  },
  {
   "cell_type": "markdown",
   "metadata": {},
   "source": [
    "## Calculating the Linear Best Fit"
   ]
  },
  {
   "cell_type": "markdown",
   "metadata": {},
   "source": [
    "As we can see by selecting two random points, the line passes through all the points. In machine learning to achieve this, we present a function called a cost function. Our goal is to minimize the result of the cost function until it meets a minimization threshold. The line with the minimum cost is called the **linear best fit**."
   ]
  },
  {
   "cell_type": "markdown",
   "metadata": {},
   "source": [
    "![Linear best fit](images/linearBestFit.png \"Linear best fit\")"
   ]
  },
  {
   "cell_type": "markdown",
   "metadata": {},
   "source": [
    "As discussed above, our goal is to find the linear best fit from the given dataset. Therefore we need to find a way to calculate the cost function. So, a question arises, how do we calculate the cost function?\n",
    "\n",
    "In the figure above, the red line represents the regression line like the one we found in the previous section. The green horizontal bars are the error of each data point in our data set. More straightforwardly, this means how far our prediction was from the actual data point. Mathematically we can represent the error term as:\n",
    "\n",
    "\\begin{equation}\n",
    " error_i = yi_{actual} - yi_{predicted}\n",
    "\\end{equation}"
   ]
  },
  {
   "cell_type": "markdown",
   "metadata": {},
   "source": [
    "Therefore, we can use the error calculation technique to find the error in the prediction for each of the data points. So all we need to do is summarize all these error results, and finally, we will find an equation for calculating the cost, which is:\n",
    "\n",
    "\\begin{equation}\n",
    " J = \\textstyle\\frac{1}{2 m} \\sum_{i=1}^n (yi_{actual} - yi_{predicted})\n",
    "\\end{equation}\n",
    "\n",
    "To account for the negative values, we will square the errors.\n",
    "\n",
    "\\begin{equation}\n",
    " J = \\frac{1}{2 m} \\sum_{i=1}^n (yi_{actual} - yi_{predicted})^2\n",
    "\\end{equation}\n",
    "\n",
    "Now, we need to find the parameters of a line that has the least error. Once we have this, we can form an equation of a line that is the linear best fit."
   ]
  },
  {
   "cell_type": "markdown",
   "metadata": {},
   "source": [
    "## Searching the parameters for the Linear Best Fit"
   ]
  },
  {
   "cell_type": "markdown",
   "metadata": {},
   "source": [
    "There multiple ways to adjust the parameters of the hypothesis to get the linear best fit. The most popular is **gradient descent** and the **normal equation**.\n",
    "\n",
    "Before we dive into that, we must introduce the standard notation. At this point, I kept the parameter names as simple as possible. In the world of machine learning, you are more likely to see the parameter names as $\\theta_i$. Due to that fact, we represent our hypothesis $h(x) = b + a * x  $ equation as:\n",
    "\n",
    "\\begin{equation}\n",
    "h_{\\theta}(x) = \\theta_0 + \\theta_1 x\n",
    "\\end{equation}\n",
    "\n",
    ", where $h_\\theta$ means that our function is parametrize by $\\theta$.\n",
    "\n",
    "In terms of our dataset notation, it would be easier for us if we could specify the $i_{th}$ training example. Let's begin by graping the first 3 rows and the size of our dataset."
   ]
  },
  {
   "cell_type": "code",
   "execution_count": 4,
   "metadata": {},
   "outputs": [
    {
     "data": {
      "text/html": [
       "<div>\n",
       "<style scoped>\n",
       "    .dataframe tbody tr th:only-of-type {\n",
       "        vertical-align: middle;\n",
       "    }\n",
       "\n",
       "    .dataframe tbody tr th {\n",
       "        vertical-align: top;\n",
       "    }\n",
       "\n",
       "    .dataframe thead th {\n",
       "        text-align: right;\n",
       "    }\n",
       "</style>\n",
       "<table border=\"1\" class=\"dataframe\">\n",
       "  <thead>\n",
       "    <tr style=\"text-align: right;\">\n",
       "      <th></th>\n",
       "      <th>sqft</th>\n",
       "      <th>price</th>\n",
       "    </tr>\n",
       "  </thead>\n",
       "  <tbody>\n",
       "    <tr>\n",
       "      <th>0</th>\n",
       "      <td>10655</td>\n",
       "      <td>284.0</td>\n",
       "    </tr>\n",
       "    <tr>\n",
       "      <th>1</th>\n",
       "      <td>10000</td>\n",
       "      <td>16.0</td>\n",
       "    </tr>\n",
       "    <tr>\n",
       "      <th>2</th>\n",
       "      <td>7000</td>\n",
       "      <td>136.5</td>\n",
       "    </tr>\n",
       "  </tbody>\n",
       "</table>\n",
       "</div>"
      ],
      "text/plain": [
       "    sqft  price\n",
       "0  10655  284.0\n",
       "1  10000   16.0\n",
       "2   7000  136.5"
      ]
     },
     "execution_count": 4,
     "metadata": {},
     "output_type": "execute_result"
    }
   ],
   "source": [
    "# Project the first rows of your data\n",
    "data.head(3)"
   ]
  },
  {
   "cell_type": "code",
   "execution_count": 5,
   "metadata": {},
   "outputs": [
    {
     "name": "stdout",
     "output_type": "stream",
     "text": [
      "Dataset size: 1454\n"
     ]
    }
   ],
   "source": [
    "# Get the size of our dataset\n",
    "print(\"Dataset size: {size}\".format(size=data.shape[0]))"
   ]
  },
  {
   "cell_type": "markdown",
   "metadata": {},
   "source": [
    "|  sqft(x) \t|   price(y) in 1k\t|\n",
    "|:---------:|:-----------------:|\n",
    "|10655      |    284            |\n",
    "|1000  \t    |    160 \t        |\n",
    "|7000    \t|   1365  \t        |\n",
    "| ...       |    ...    \t    |\n",
    "\n",
    "**Notation:**\n",
    "\n",
    "$\\textrm{m = Number of training examples} \\implies \\textrm{m = 1454}$\n",
    "\n",
    "$\\textrm{x's = \"input\" features} \\implies \\textrm{ie: } x^{(1)} = 10655 \\textrm{, } x^{(3)} = 7000$\n",
    "\n",
    "$\\textrm{y's = \"output\" or \"target\" variable} \\implies \\textrm{ie: } y^{(1)} = 284$\n",
    "\n",
    "$(x^{(i)}, y^{(i)}) \\implies i_{th} \\textrm{ training example}$\n",
    "\n",
    "With this notation we can describe which feature we are referring to and which target value. With that said, we can start our calculations for the linear best fit finding!\n",
    "\n",
    "### Gradient descent\n",
    "\n",
    "So we have our hypothesis function and we have a way of measuring how well it fits into the data. Now we need to estimate the parameters in the hypothesis function. That's where gradient descent comes in. To keep this tutorial as small as possible I will cover the basic of gradient descent algorithm, and a in-depth cover in later tutorials. \n",
    "\n",
    "Imagine standing on top of a valley with a ball in your hand. To find out how far this ball can go, we let it roll to the deepest part of the valley. Since at the beginning of the movement of the ball, the valley is steeper, the ball descent faster. However, as soon as it is about to reach the bottom, the surface will become more vertical, and the ball will slow down.\n",
    "\n",
    "![Gradient descent](images/gsd.png \"Gradient descent\")\n",
    "\n",
    "We will know that we have succeeded when our cost function is at the very bottom of the pits in our graph, i.e. when its value is the minimum. That's is basically the idea of the gradient descent. The gradient descent algorithm is:\n",
    "\n",
    "$\\textrm{repeat until convergence: } $\n",
    "\n",
    "\\begin{equation}\n",
    "\\theta_j := \\theta_j - \\alpha \\frac{\\partial}{\\partial \\theta_j} J(\\theta_0, \\theta_1)\n",
    "\\end{equation}\n",
    "\n",
    "$\\textrm{ where: } $\n",
    "* j, represents the feature index number.\n",
    "* a, the learning rate -  ensure that the gradient descent algorithm converges in a reasonable time. \n",
    "\n",
    "When applied specifically in the case of linear regression, a new form o equation occurs. We can replace the cost function and the hypothesis function and modify the equation into:\n",
    "\n",
    "$\\textrm{repeat until convergence: } \\lbrace $\n",
    "\n",
    "\\begin{equation}\n",
    "\\theta_0 := \\theta_0 - \\alpha \\frac{1}{m} \\sum_{i=1}^n (h_{\\theta}(x) - y_i)\n",
    "\\end{equation}\n",
    "\n",
    "\\begin{equation}\n",
    "\\theta_1 := \\theta_1 - \\alpha \\frac{1}{m} \\sum_{i=1}^n ((h_{\\theta}(x_i) - y_i)x_i)\n",
    "\\end{equation}\n",
    "\n",
    " $\\rbrace $\n",
    " \n",
    "So, let's see how it looks like in the Python programming language:\n",
    "\n",
    "Tip: Normalize your data! $z = \\frac{xi - \\mu}{\\sigma}$"
   ]
  },
  {
   "cell_type": "code",
   "execution_count": 6,
   "metadata": {},
   "outputs": [],
   "source": [
    "# Initialize target variable\n",
    "y = data['price'].to_numpy().reshape(1454, 1)\n",
    "\n",
    "# Initialize fitting parameters\n",
    "theta = np.zeros((2,1))\n",
    "\n",
    "# Initialize gradient descent settings\n",
    "iterations = 2000;\n",
    "alpha = 0.001;\n",
    "\n",
    "# initialize number of training examples\n",
    "m = y.size\n",
    "\n",
    "# Get your feautures\n",
    "X = data\n",
    "X = X[[\"sqft\"]].to_numpy()\n",
    "\n",
    "# Normalize your data\n",
    "X_norm = X.copy()\n",
    "mu = np.zeros(X.shape[1])\n",
    "sigma = np.zeros(X.shape[1])\n",
    "\n",
    "mu = np.mean(X, axis = 0)\n",
    "sigma = np.std(X, axis = 0)\n",
    "X_norm = (X - mu) / sigma\n",
    "X = X_norm\n",
    "\n",
    "# Add a column of intercept\n",
    "X = np.hstack((np.ones((m,1)), X))"
   ]
  },
  {
   "cell_type": "code",
   "execution_count": 7,
   "metadata": {},
   "outputs": [
    {
     "name": "stdout",
     "output_type": "stream",
     "text": [
      "[[ 1.          0.12172427]\n",
      " [ 1.         -0.00339841]\n",
      " [ 1.         -0.5764794 ]\n",
      " ...\n",
      " [ 1.         -0.36157403]\n",
      " [ 1.          0.73396579]\n",
      " [ 1.         -0.28993891]]\n"
     ]
    }
   ],
   "source": [
    "print(X)"
   ]
  },
  {
   "cell_type": "code",
   "execution_count": 8,
   "metadata": {},
   "outputs": [],
   "source": [
    "def computeCost(X, y, theta):\n",
    "    \"\"\"\n",
    "    Compute cost for linear regression.\n",
    "    \n",
    "    Parameters\n",
    "    ----------\n",
    "    X : array_like\n",
    "        The values that represents the input features + the intercept point\n",
    "        of shape (m x n+1), where m is the number of examples, and n is the\n",
    "        number of features.\n",
    "    y : array_like\n",
    "        The target variable. It is a vector of shape (m, ).\n",
    "    \n",
    "    theta : array_like\n",
    "        A vector of shape (n+1, ) which represents the parameters.\n",
    "    \n",
    "    Returns\n",
    "    -------\n",
    "    J : float - The value of the cost function.\n",
    "    \n",
    "    \"\"\"\n",
    "    \n",
    "    # number of training examples\n",
    "    m = np.size(y, axis=0)\n",
    "    \n",
    "    # Initialize cost variable\n",
    "    J = 0\n",
    "    \n",
    "    # initialize hypothesis\n",
    "    h_theta = np.dot(X, theta)\n",
    "    \n",
    "    # Calculate the cost\n",
    "    J = (1/(2 * m)) * np.sum(np.square(np.dot(X, theta) - y))\n",
    "    \n",
    "    # Return Cost\n",
    "    return J"
   ]
  },
  {
   "cell_type": "code",
   "execution_count": 9,
   "metadata": {},
   "outputs": [
    {
     "name": "stdout",
     "output_type": "stream",
     "text": [
      "15269.773052640305\n"
     ]
    }
   ],
   "source": [
    "J = computeCost(X, y, theta)\n",
    "print(J)"
   ]
  },
  {
   "cell_type": "code",
   "execution_count": 10,
   "metadata": {},
   "outputs": [],
   "source": [
    "def gradientDescent(X, y, theta, alpha, num_iters):\n",
    "    \"\"\"\n",
    "    Performs gradient descent to learn theta\n",
    "    \n",
    "    Parameters\n",
    "    ----------\n",
    "    X : array_like\n",
    "        The values that represents the input features + the intercept point\n",
    "        of shape (m x n+1), where m is the number of examples, and n is the\n",
    "        number of features.\n",
    "    y : array_like\n",
    "        The target variable. It is a vector of shape (m, ).\n",
    "    \n",
    "    theta : array_like\n",
    "        A vector of shape (n+1, ) which represents the parameters.\n",
    "    \n",
    "    Returns\n",
    "    -------\n",
    "    theta: array_like - The optimal parameters\n",
    "    J_history : array_like - The history of the cost.\n",
    "    \n",
    "    \"\"\"\n",
    "    # number of training examples\n",
    "    m = np.size(y, axis=0)\n",
    "    \n",
    "    # Initialize some useful values\n",
    "    J_history = []\n",
    "    \n",
    "    # are passed by reference to functions\n",
    "    theta = theta.copy()\n",
    "    \n",
    "    for iter in range(num_iters):\n",
    "        # initialize hypothesis\n",
    "        h_theta = np.dot(X, theta)\n",
    "\n",
    "        # calculate the thetas\n",
    "        # (2,1) = (2,1) - ( 2, 1454  ).dot(1454x1 )\n",
    "        theta = theta - (alpha / m) * (X.T).dot(h_theta - y)\n",
    "        \n",
    "        # Save the cost J in every iteration\n",
    "        J_history.append(computeCost(X, y, theta))\n",
    "    \n",
    "    return theta, J_history"
   ]
  },
  {
   "cell_type": "code",
   "execution_count": 11,
   "metadata": {},
   "outputs": [
    {
     "name": "stdout",
     "output_type": "stream",
     "text": [
      "Theta found by gradient descent: [125.35818206], [18.30886644]\n"
     ]
    }
   ],
   "source": [
    "# run gradient descent\n",
    "theta, J_history = gradientDescent(X, y, theta, alpha, iterations)\n",
    "\n",
    "# print theta to screen\n",
    "print('Theta found by gradient descent: {0}, {1}'.format(theta[0], theta[1]))"
   ]
  },
  {
   "cell_type": "markdown",
   "metadata": {},
   "source": [
    "In order to be sure that our cost function decrease over time, which means it approaches the global minimum, we can plot it over the iterations: "
   ]
  },
  {
   "cell_type": "code",
   "execution_count": 12,
   "metadata": {
    "scrolled": true
   },
   "outputs": [
    {
     "data": {
      "text/plain": [
       "[<matplotlib.lines.Line2D at 0x1380d178>]"
      ]
     },
     "execution_count": 12,
     "metadata": {},
     "output_type": "execute_result"
    },
    {
     "data": {
      "image/png": "[encoded data removed]",
      "text/plain": [
       "<Figure size 432x288 with 1 Axes>"
      ]
     },
     "metadata": {
      "needs_background": "light"
     },
     "output_type": "display_data"
    }
   ],
   "source": [
    "plt.title(\"Cost over iterations\")\n",
    "plt.plot(J_history, label='Cost function', color='red')"
   ]
  },
  {
   "cell_type": "code",
   "execution_count": 13,
   "metadata": {},
   "outputs": [
    {
     "data": {
      "image/png": "[encoded data removed]",
      "text/plain": [
       "<Figure size 432x288 with 1 Axes>"
      ]
     },
     "metadata": {
      "needs_background": "light"
     },
     "output_type": "display_data"
    }
   ],
   "source": [
    "plt.scatter(data[\"sqft\"], data[\"price\"])\n",
    "plt.title(\"Our hypothesis fit\")\n",
    "plt.xlabel(\"sqft\")\n",
    "plt.ylabel(\"price in 1k's\")\n",
    "\n",
    "plt.plot(data[\"sqft\"], X.dot(theta), '-', label='Linear regression', color='red')\n",
    "plt.legend(loc='upper right', shadow=True, fontsize='x-large', numpoints=1)\n",
    "\n",
    "plt.show()"
   ]
  },
  {
   "cell_type": "code",
   "execution_count": 14,
   "metadata": {
    "scrolled": true
   },
   "outputs": [
    {
     "name": "stdout",
     "output_type": "stream",
     "text": [
      "For sqft = 1000, we predict that our friend should sell his property \n",
      "for 18434224.62 euros/dollars \n",
      "\n"
     ]
    }
   ],
   "source": [
    "# Predict values for population sizes of 35,000 and 70,000\n",
    "predict = np.dot([1, 1000], theta)\n",
    "print('For sqft = 1000, we predict that our friend should sell his property \\nfor {:.2f} euros/dollars \\n'.format(predict[0]*1000))"
   ]
  },
  {
   "cell_type": "markdown",
   "metadata": {},
   "source": [
    "### Conclusion!\n",
    "\n",
    "Our hypothesis is best suited to our data, as can be seen from the plot, which leads us to a better prediction than the old one.\n",
    "\n",
    "In conclusion, a simple linear regression estimates the relationship between two quantitative variables. Once we have this line, we can predict the value of the dependent variable based on the value of the independent variable using the line equation and the optimal parameters."
   ]
  }
 ],
 "metadata": {
  "kernelspec": {
   "display_name": "Python 3",
   "language": "python",
   "name": "python3"
  },
  "language_info": {
   "codemirror_mode": {
    "name": "ipython",
    "version": 3
   },
   "file_extension": ".py",
   "mimetype": "text/x-python",
   "name": "python",
   "nbconvert_exporter": "python",
   "pygments_lexer": "ipython3",
   "version": "3.8.2"
  }
 },
 "nbformat": 4,
 "nbformat_minor": 4
}
