{
 "cells": [
  {
   "cell_type": "markdown",
   "metadata": {},
   "source": [
    "# Gradient Descent, Normal Equation and the math story.\n",
    "\n",
    "In a world where data is becoming more valuable than gold, machine learning is trying to use this data for marketing, customer satisfaction, problem-solving and many many other reasons. However, the question arises, how we extract the maximum possible value from a given dataset? This is a question that I will attempt to tackle in this article."
   ]
  },
  {
   "cell_type": "code",
   "execution_count": 1,
   "metadata": {},
   "outputs": [
    {
     "data": {
      "text/html": [
       "<div>\n",
       "<style scoped>\n",
       "    .dataframe tbody tr th:only-of-type {\n",
       "        vertical-align: middle;\n",
       "    }\n",
       "\n",
       "    .dataframe tbody tr th {\n",
       "        vertical-align: top;\n",
       "    }\n",
       "\n",
       "    .dataframe thead th {\n",
       "        text-align: right;\n",
       "    }\n",
       "</style>\n",
       "<table border=\"1\" class=\"dataframe\">\n",
       "  <thead>\n",
       "    <tr style=\"text-align: right;\">\n",
       "      <th></th>\n",
       "      <th>car_name</th>\n",
       "      <th>horsepower</th>\n",
       "      <th>price</th>\n",
       "    </tr>\n",
       "  </thead>\n",
       "  <tbody>\n",
       "    <tr>\n",
       "      <th>0</th>\n",
       "      <td>alfa-romero giulia</td>\n",
       "      <td>111</td>\n",
       "      <td>13495.0</td>\n",
       "    </tr>\n",
       "    <tr>\n",
       "      <th>1</th>\n",
       "      <td>alfa-romero stelvio</td>\n",
       "      <td>111</td>\n",
       "      <td>16500.0</td>\n",
       "    </tr>\n",
       "    <tr>\n",
       "      <th>2</th>\n",
       "      <td>alfa-romero Quadrifoglio</td>\n",
       "      <td>154</td>\n",
       "      <td>16500.0</td>\n",
       "    </tr>\n",
       "    <tr>\n",
       "      <th>3</th>\n",
       "      <td>audi 100 ls</td>\n",
       "      <td>102</td>\n",
       "      <td>13950.0</td>\n",
       "    </tr>\n",
       "    <tr>\n",
       "      <th>4</th>\n",
       "      <td>audi 100ls</td>\n",
       "      <td>115</td>\n",
       "      <td>17450.0</td>\n",
       "    </tr>\n",
       "  </tbody>\n",
       "</table>\n",
       "</div>"
      ],
      "text/plain": [
       "                   car_name  horsepower    price\n",
       "0        alfa-romero giulia         111  13495.0\n",
       "1       alfa-romero stelvio         111  16500.0\n",
       "2  alfa-romero Quadrifoglio         154  16500.0\n",
       "3               audi 100 ls         102  13950.0\n",
       "4                audi 100ls         115  17450.0"
      ]
     },
     "execution_count": 1,
     "metadata": {},
     "output_type": "execute_result"
    }
   ],
   "source": [
    "# Import the required libraries\n",
    "#\n",
    "# import pandas\n",
    "import pandas as pd\n",
    "# import numpy\n",
    "import numpy as np\n",
    "np.seterr(all='warn')\n",
    "\n",
    "# import matplotlib for visualization \n",
    "import matplotlib.pyplot as plt\n",
    "\n",
    "# Read your collected data\n",
    "data = pd.read_csv(\"car_pricing.csv\")\n",
    "\n",
    "# Project the first 5 rows of your data\n",
    "data.head()"
   ]
  },
  {
   "cell_type": "markdown",
   "metadata": {},
   "source": [
    "## Let's make a hypothesis, shall we?\n",
    "\n",
    "Suppose we have a magic empty box. The way that magic box works is the following. We put a paper with a written value inside, and once we open it again, a new paper appears with a prediction. And that's the idea behind it.\n",
    "\n",
    "The hypothesis is a formal way to describe our prediction function. It's a Greek word \"υπόθεση\", and it means \"idea or explanation for something that is based on known facts but has not yet been proven\". Therefore, our goal is, given a training set, to learn a function h: X → Y so that h(x) is a \"good\" predictor for the corresponding value of y."
   ]
  },
  {
   "cell_type": "markdown",
   "metadata": {},
   "source": [
    "<img src=\"./images/hypothesis_graph.png\" alt=\"Hypothesis graph\" />"
   ]
  },
  {
   "cell_type": "markdown",
   "metadata": {},
   "source": [
    "When the variable that we want to estimate is continuous, such as car pricing, which will be our example for this article, we tend to call this learning problem a regression problem.\n",
    "\n",
    "## Enter the cost function\n",
    "\n",
    "In the previous section, we said that \"… h(x) is a \"good\" predictor…\". However, we haven't defined yet a way to calculate the accuracy of our hypothesis function. This measurement is calculated from the cost function. How we do that?\n",
    "\n",
    "To make our prediction, we have a given set of data; it's called the training set. This dataset contains price samples from the automotive industry. The idea is to try to predict these values again using our hypothesis function and to calculate how far the prediction is from the real one."
   ]
  },
  {
   "cell_type": "markdown",
   "metadata": {},
   "source": [
    "<img src=\"./images/cost_function_eroor.png\" alt=\"Cost function error\" />"
   ]
  },
  {
   "cell_type": "markdown",
   "metadata": {},
   "source": [
    "> There are plenty of metrics that measures how well our model performs. It will be the next article so stay tuned!\n",
    "\n",
    "The metric that we will use is the MSE or Mean Squared Error. It's the most popular among the others for regression algorithms, and it looks like the following equation:\n"
   ]
  },
  {
   "cell_type": "markdown",
   "metadata": {},
   "source": [
    "<img src=\"./images/metric_MSE.jpeg\" alt=\"MSE metric\" />"
   ]
  },
  {
   "cell_type": "markdown",
   "metadata": {},
   "source": [
    "where:\n",
    "* i - index of sample,\n",
    "* ŷ - predicted value,\n",
    "* y - expected value,\n",
    "* n - number of samples in dataset.\n",
    "\n",
    "As shown in the equation, the smaller the difference between the actual and predicted values of y, the lower the MSE. And that is the goal, to have the lowest possible MSE because of the fact that the cost function uses the MSE as a metric to estimate an average difference of all the results of the hypothesis with inputs from x's and the actual output y's.\n",
    "\n",
    "Finally, the last piece to assemble the cost function is the regression line. We try to make a straight line (defined by hθ (x)) that passes through the data points. Since we are trying to draw a straight line, our formula will be:"
   ]
  },
  {
   "cell_type": "markdown",
   "metadata": {},
   "source": [
    "\\begin{equation}\n",
    "h_{\\theta}(x) = \\theta_0 + \\theta_1 x\n",
    "\\end{equation}"
   ]
  },
  {
   "cell_type": "markdown",
   "metadata": {},
   "source": [
    "We are now ready to assemble the cost function by replacing y_hat with our hypothesis."
   ]
  },
  {
   "cell_type": "markdown",
   "metadata": {},
   "source": [
    "\\begin{aligned}\n",
    "J & = \\frac{1}{2m} \\sum_{n=1}^{n} (y_i - \\hat{y_i})^2 \\\\ \n",
    "& = \\frac{1}{2m} \\sum_{n=1}^{n} (y_i - (\\theta_0 + \\theta_1 x_i) )^2 \\\\ \n",
    "& = \\frac{1}{2m} \\sum_{n=1}^{n} (y_i - h_{\\theta}(x_i) )^2 \n",
    "\\end{aligned}"
   ]
  },
  {
   "cell_type": "markdown",
   "metadata": {},
   "source": [
    "## Normal Equation"
   ]
  },
  {
   "cell_type": "markdown",
   "metadata": {},
   "source": [
    "At this point in the article, I want to introduce the vectorization of the functions. The reason that we do such a thing is about the computational efficiency for library programming makes our formulas shorter and easier to read. Let's say that we have four cars whose prices we want to predict.\n",
    "\n",
    "|   car_name\t            |   horsepower\t|   price\t|\n",
    "|:------------------------:\t|:---------:\t|:------:\t|\n",
    "|   alfa-romero giulia\t\t|  111   \t    |   13495.0\t|\n",
    "|   alfa-romero stelvio\t    |  111       \t|   16500.0\t|\n",
    "|   alfa-romero Quadrifoglio|  154      \t|   16500.0\t|\n",
    "|   audi 100 ls\t\t        |  102 \t        |   13950.0\t|\n",
    "\n",
    "Our target variable(dependent variable) will be price and the independent variable will be the horsepower of the car.\n",
    "\n",
    "Convert our features and target variables into matrixes, vectors:"
   ]
  },
  {
   "cell_type": "markdown",
   "metadata": {},
   "source": [
    "\\begin{aligned}\n",
    "x = \\begin{bmatrix} 111 \\\\ 111 \\\\ 154 \\\\ 102 \\end{bmatrix} \\xrightarrow{\\text{add intercept point}} \\begin{bmatrix} 1 & 111 \\\\ 1 & 111 \\\\ 1 & 154 \\\\ 1 & 102 \\end{bmatrix}, y = \\begin{bmatrix} 13495.0 \\\\ 16500.0 \\\\ 16500 \\\\ 13950.0 \\end{bmatrix}, \\theta = \\begin{bmatrix} \\theta_0 \\\\ \\theta_1 \\end{bmatrix}\n",
    "\\end{aligned}"
   ]
  },
  {
   "cell_type": "markdown",
   "metadata": {},
   "source": [
    "Multiply our features by our parameters:"
   ]
  },
  {
   "cell_type": "markdown",
   "metadata": {},
   "source": [
    "\\begin{align*}\n",
    "h_\\theta(x) = \\begin{bmatrix} \\theta_0 \\hspace{2em} \\theta_1 \\end{bmatrix}\\begin {bmatrix}x_0 \\newline x_1 \\newline \\vdots \\newline x_n\\end{bmatrix} = \\theta^T x = \\begin{bmatrix} \\theta_0 + \\theta_1 * 111 \\\\ \\theta_0 + \\theta_1 * 111 \\\\ \\theta_0 + \\theta_1 * 154 \\\\ \\theta_0 + \\theta_1 * 102 \\end{bmatrix}\n",
    "\\end{align*}"
   ]
  },
  {
   "cell_type": "markdown",
   "metadata": {},
   "source": [
    "Eh voila! This method will allow us to make massive prediction of our data set and make our cost function:"
   ]
  },
  {
   "cell_type": "markdown",
   "metadata": {},
   "source": [
    "\\begin{equation}\n",
    "\\min_{\\theta_0, \\theta_1} J(\\theta) = \\frac{1}{2m} \\sum_{i=1}^n (y^{(i)} - h_{\\theta}(x^{(i)}))^2\n",
    "\\end{equation}"
   ]
  },
  {
   "cell_type": "markdown",
   "metadata": {},
   "source": [
    "to be more like:"
   ]
  },
  {
   "cell_type": "markdown",
   "metadata": {},
   "source": [
    "\\begin{equation}\n",
    "J(\\theta) = \\frac{1}{2m} (X \\theta - y)^T (X \\theta - y)\n",
    "\\end{equation}"
   ]
  },
  {
   "cell_type": "markdown",
   "metadata": {},
   "source": [
    "To simplify more the equation, we will use one of the matrix transpose identities $(AB)^T = B^T A^T$ and then we will use associative multipication."
   ]
  },
  {
   "cell_type": "markdown",
   "metadata": {},
   "source": [
    "\\begin{aligned}\n",
    "J(\\theta) & = ((X \\theta)^T - y^T)(X \\theta - y) \\\\\n",
    "& = (X \\theta)^T X \\theta - (X \\theta)^T y - y^T (X \\theta) + y^T y \\\\\n",
    "\\end{aligned}"
   ]
  },
  {
   "cell_type": "markdown",
   "metadata": {},
   "source": [
    "Due to the second term and the third term are the same, we are able to add them:"
   ]
  },
  {
   "cell_type": "markdown",
   "metadata": {},
   "source": [
    "\\begin{equation}\n",
    "J(\\theta) =  \\theta^T X^T X \\theta - 2(X \\theta)^T y + y^T y\n",
    "\\end{equation}"
   ]
  },
  {
   "cell_type": "markdown",
   "metadata": {},
   "source": [
    "Then the question arises, how do we minimize this equation? The answer lies in graph analysis and Fermat's Theorem. The Extreme Value Theorem tells us that the minimum and maximum of a function must be where the derivative is either zero or non-existent. So, we need to find the derivative of the new $J(\\theta)$ to be equal to 0."
   ]
  },
  {
   "cell_type": "markdown",
   "metadata": {},
   "source": [
    "\\begin{equation}\n",
    "A(\\theta) = \\theta^T X^T X \\theta \\\\\n",
    "B(\\theta) = 2(X \\theta)^T y \\\\\n",
    "C(\\theta) = y^T y \\\\\n",
    "\\end{equation}"
   ]
  },
  {
   "cell_type": "markdown",
   "metadata": {},
   "source": [
    "$ \\textrm{Find the derivative of A:}$\n",
    "\n",
    "\\begin{aligned}\n",
    "A(\\theta) &= \\theta^T X^T X \\theta \\\\\n",
    "&= \\begin{pmatrix}\n",
    "  \\theta_1 & \\theta_2 & ... & \\theta_n\n",
    "\\end{pmatrix} \\begin{pmatrix}\n",
    "   x_{11} & x_{21} & ... & x_{m1} \\\\\n",
    "   x_{12} & x_{22} & ... & x_{m2} \\\\\n",
    "... & ... & ... & ... \\\\\n",
    "x_{1n} & x_{2n} & ... & x_{mn} \\\\\n",
    "\\end{pmatrix} \\begin{pmatrix}\n",
    "   x_{11} & x_{12} & ... & x_{1n} \\\\\n",
    "   x_{12} & x_{22} & ... & x_{2n} \\\\\n",
    "... & ... & ... & ... \\\\\n",
    "x_{m1} & x_{m2} & ... & x_{mn} \\\\\n",
    "\\end{pmatrix}\\begin{pmatrix}\n",
    "  \\theta_1 \\\\ \\theta_2 \\\\ ... \\\\ \\theta_n\n",
    "\\end{pmatrix} \\\\ \\\\\n",
    "&=\\begin{pmatrix}\n",
    "  \\theta_1 & \\theta_2 & ... & \\theta_n\n",
    "\\end{pmatrix} \\begin{pmatrix}\n",
    "   x_{11}^2 \\theta1 & ... & x_{1n}^2 \\theta_n \\\\\n",
    "   x_{21}^2 \\theta1 & ... & x_{2n}^2 \\theta_n \\\\\n",
    "... & ... & ...  \\\\\n",
    "x_{n1}^2 \\theta1 & ... & x_{nn}^2 \\theta_n \\\\\n",
    "\\end{pmatrix} \\\\ \\\\\n",
    "&=\\theta_1 (x_{11}^2 \\theta_1+ ... + x_{1n}^2 \\theta_n) + ... + \\theta_n(x_{n1}^2 \\theta_1+ ... + x_{nn}^2 \\theta_n) \\\\\n",
    "\\end{aligned}\n",
    "\n",
    "$ \\textrm{Therefore for each paramater n:}$\n",
    "\n",
    "\\begin{equation}\n",
    "\\frac{\\partial A}{\\partial \\theta1} = 2 \\theta_1 x_{11}^2 + 2 \\theta_1 x_{12}^2 + ... + 2 \\theta_1 x_{1n}^2\n",
    "\\end{equation}\n",
    "\n",
    "$$\\textrm{...}$$\n",
    "\n",
    "\\begin{equation}\n",
    "\\frac{\\partial A}{\\partial \\theta_n} = 2 \\theta_n x_{n1}^2 + 2 \\theta_n x_{n2}^2 + ... + 2 \\theta_n x_{nn}^2\n",
    "\\end{equation}\n",
    "\n",
    "$ \\textrm{And if we convert all of these derivates into vectors then:}$\n",
    "\n",
    "\\begin{equation}\n",
    "\\implies \\tag{1}\\frac{\\partial A}{\\partial \\theta_n} = 2 \\theta X^T X \n",
    "\\end{equation}\n",
    "\n",
    "$$\\textrm{---}$$\n",
    "\n",
    "$ \\textrm{Find the derivatives of B:}$\n",
    "\n",
    "\\begin{aligned}\n",
    "B(\\theta) &= 2 (X \\theta)^T y \\\\\n",
    "&= 2 \\left( \\begin{pmatrix}\n",
    "   x_{11} & x_{12} & ... & x_{1n} \\\\\n",
    "   x_{21} & x_{22} & ... & x_{2n} \\\\\n",
    "... & ... & ... & ... \\\\\n",
    "x_{m1} & x_{m2} & ... & x_{mn} \\\\\n",
    "\\end{pmatrix}  \\begin{pmatrix}\n",
    "  \\theta_1 \\\\ \\theta_2 \\\\ ... \\\\ \\theta_n\n",
    "\\end{pmatrix} \\right)^T \\begin{pmatrix}\n",
    "  y_1 \\\\ y_2 \\\\ ... \\\\ y_m\n",
    "\\end{pmatrix} \\\\\n",
    "&= 2(x_{11} \\theta_1 + ... + x_{1n} \\theta_n) y_1 + ... + 2(x_{m1} \\theta_1 + ... + x_{mn} \\theta_n) y_m\n",
    "\\end{aligned}\n",
    "\n",
    "$ \\textrm{Therefore for each paramater n:}$\n",
    "\n",
    "\\begin{equation}\n",
    "\\frac{\\partial B}{\\partial \\theta1} = 2 (x_{11} y_1 + ... + x_{m1} y_m)\n",
    "\\end{equation}\n",
    "\n",
    "$$\\textrm{...}$$\n",
    "\n",
    "\\begin{equation}\n",
    "\\frac{\\partial B}{\\partial \\theta_n} = 2 (x_{1n} y_1 + ... + x_{mn} y_m)\n",
    "\\end{equation}\n",
    "\n",
    "$ \\textrm{And if we convert all of these derivates into vectors then:}$\n",
    "\n",
    "\\begin{equation}\n",
    "\\tag{2}\\frac{\\partial B}{\\partial \\theta} = 2 X^T y\n",
    "\\end{equation}\n",
    "\n",
    "\n",
    "$$\\textrm{---}$$\n",
    "\n",
    "$\\textrm{The third term does not contain any}$ $\\theta$ $\\textrm{parameter and therefore the derivate of,}$\n",
    "\n",
    "\\begin{aligned}\n",
    "C(\\theta) = y^T y \\\\\n",
    "\\end{aligned}\n",
    "\n",
    "$\\textrm{will be zero:}$\n",
    "\n",
    "\\begin{equation}\n",
    "\\tag{3}\\frac{\\partial C}{\\partial \\theta} = 0 \n",
    "\\end{equation}"
   ]
  },
  {
   "cell_type": "markdown",
   "metadata": {},
   "source": [
    "All the pieces are ready. Let's assemble the puzzle from equation (1),(2) and (3):"
   ]
  },
  {
   "cell_type": "markdown",
   "metadata": {},
   "source": [
    "<img src=\"./images/normalEquation_assemble.png\" alt=\"Assemble the normal equation\" />"
   ]
  },
  {
   "cell_type": "markdown",
   "metadata": {},
   "source": [
    "\\begin{aligned}\n",
    "\\frac{\\partial}{\\partial \\theta} J = 0 \\xrightarrow{(1), (2), (3)} \\space\n",
    "& 2 X^T X \\theta - 2 X^T y + 0 = 0 \\\\\n",
    "& \\iff 2X^T X \\theta = 2 X^T y \\\\ \n",
    "& \\iff X^T X \\theta = X^T y \\\\\n",
    "& \\iff \\theta = 2 (X^T X)^-1 X^T y \\\\  \n",
    "\\end{aligned}"
   ]
  },
  {
   "cell_type": "markdown",
   "metadata": {},
   "source": [
    "This is the theory of the normal equation. However, we must test the method to prove that it works properly. It's time to apply it to our car pricing problem. First, we will initialize some variables and data. \n",
    "\n",
    "> Tip: Using this formula does not require any feature scaling, and you will get an exact solution in one calculation: there is no “loop until convergence”. "
   ]
  },
  {
   "cell_type": "code",
   "execution_count": 2,
   "metadata": {},
   "outputs": [],
   "source": [
    "# Initialize target variable\n",
    "y = data['price'].to_numpy()\n",
    "\n",
    "# initialize number of training examples\n",
    "m = y.size\n",
    "\n",
    "# Get your feautures\n",
    "X = data\n",
    "X = X[[\"horsepower\"]].to_numpy()\n",
    "\n",
    "# Add a column of intercept point\n",
    "X = np.hstack((np.ones((m,1)), X))"
   ]
  },
  {
   "cell_type": "markdown",
   "metadata": {},
   "source": [
    "Next, we will move on to the implementation of normal equation:"
   ]
  },
  {
   "cell_type": "code",
   "execution_count": 3,
   "metadata": {},
   "outputs": [],
   "source": [
    "def normalEquation(X, y):\n",
    "    \"\"\"\n",
    "    Computes the solution to linear regression using the normal equation formula.\n",
    "    \n",
    "    Parameters\n",
    "    ----------\n",
    "    X : array_like\n",
    "        The dataset of shape (m x n+1).\n",
    "    \n",
    "    y : array_like\n",
    "        The value at each data point. A vector of shape (m, ).\n",
    "    \n",
    "    theta : array_like\n",
    "            A vector of shape (n+1, ) which represents the parameters.\n",
    "    \"\"\"\n",
    "    \n",
    "    # Initialize theta\n",
    "    theta = np.zeros(X.shape[1])\n",
    "    \n",
    "    # Apply the formula\n",
    "    theta = np.dot((np.linalg.inv(np.dot(X.T,X))),np.dot(X.T,y))\n",
    "    \n",
    "    # Return the theta parameters\n",
    "    return theta"
   ]
  },
  {
   "cell_type": "code",
   "execution_count": 4,
   "metadata": {},
   "outputs": [
    {
     "name": "stdout",
     "output_type": "stream",
     "text": [
      "Theta found by  normal equation: -3721.7614943227672, 163.263060969648\n"
     ]
    }
   ],
   "source": [
    "# Apply the normal equation\n",
    "theta = normalEquation(X,y)\n",
    "\n",
    "# print theta to screen\n",
    "print('Theta found by  normal equation: {0}, {1}'.format(theta[0], theta[1]))\n"
   ]
  },
  {
   "cell_type": "code",
   "execution_count": 5,
   "metadata": {},
   "outputs": [
    {
     "data": {
      "image/png": "[encoded data removed]",
      "text/plain": [
       "<Figure size 432x288 with 1 Axes>"
      ]
     },
     "metadata": {
      "needs_background": "light"
     },
     "output_type": "display_data"
    }
   ],
   "source": [
    "plt.scatter(data[\"horsepower\"], data[\"price\"])\n",
    "plt.title(\"Our hypothesis fit\")\n",
    "plt.xlabel(\"horsepower\")\n",
    "plt.ylabel(\"price\")\n",
    "\n",
    "plt.plot(data[\"horsepower\"], X.dot(theta), '-', label='Linear regression', color='red')\n",
    "plt.legend(loc='upper right', shadow=True, fontsize='small', numpoints=1)\n",
    "\n",
    "plt.show()"
   ]
  },
  {
   "cell_type": "markdown",
   "metadata": {},
   "source": [
    "Finally, we will make prediction price for the Yaris which cost around 10,000 euros."
   ]
  },
  {
   "cell_type": "code",
   "execution_count": 6,
   "metadata": {},
   "outputs": [
    {
     "name": "stdout",
     "output_type": "stream",
     "text": [
      "For horsepower = 72, we predict that Yaris ACTIVE 2020 should cost: 8033.18 euros/dollars \n",
      "\n"
     ]
    }
   ],
   "source": [
    "predict = np.dot([1, 72], theta)\n",
    "print('For horsepower = 72, we predict that Yaris ACTIVE 2020 should cost: {:.2f} euros/dollars \\n'.format(predict))"
   ]
  },
  {
   "cell_type": "code",
   "execution_count": null,
   "metadata": {},
   "outputs": [],
   "source": []
  },
  {
   "cell_type": "markdown",
   "metadata": {},
   "source": [
    "## Gradient descent"
   ]
  },
  {
   "cell_type": "markdown",
   "metadata": {},
   "source": [
    "Αnother way to find out the parameters that make our hypothesis perform well with our data is Gradient descent. I will use the example of my previous post to give you the idea of the method. Imagine standing on top of a valley with a ball in your hand. To find out how far this ball can go, we let it roll to the deepest part of the valley. Since at the beginning of the movement of the ball, the valley is steeper, the ball descent faster. However, as soon as it is about to reach the bottom, the surface will become more vertical, and the ball will slow down. We know that we have succeeded when our cost function is at the very bottom of the pits in our graph, i.e. when its value is the minimum."
   ]
  },
  {
   "cell_type": "markdown",
   "metadata": {},
   "source": [
    "<img src=\"./images/gradient_descent.png\" alt=\"Gradient descent\" />"
   ]
  },
  {
   "cell_type": "markdown",
   "metadata": {},
   "source": [
    "Mathematically the method depends on the tangent created by the ball and the cost function. When the slope is negative, the value of $\\theta_i$ increases and when it is positive, the value of $\\theta_i$ decreases. So let's create the function based on this theory."
   ]
  },
  {
   "cell_type": "markdown",
   "metadata": {},
   "source": [
    "\\begin{equation}\n",
    "\\theta_i := \\theta_i - gradient\n",
    "\\end{equation}"
   ]
  },
  {
   "cell_type": "markdown",
   "metadata": {},
   "source": [
    "From the calculus we know that the slope of a function is calculated by its derivative. Therefore our function will be as follows:"
   ]
  },
  {
   "cell_type": "markdown",
   "metadata": {},
   "source": [
    "\\begin{equation}\n",
    "\\theta_i := \\theta_i - \\frac{\\partial}{\\partial \\theta_i} J(\\theta_i)\n",
    "\\end{equation}"
   ]
  },
  {
   "cell_type": "markdown",
   "metadata": {},
   "source": [
    "\\begin{aligned}\n",
    "\\frac{\\partial}{\\partial \\theta_i} J(\\theta_i)\n",
    "& = \\frac{\\partial}{\\partial \\theta_i} \\frac{1}{2} ( h_{\\theta}(x) - y)^2 \\\\\n",
    "& = 2 \\frac{1}{2}( h_{\\theta}(x) - y) \\frac{\\partial}{\\partial \\theta_i}( h_{\\theta}(x) - y) \\\\\n",
    "& = ( h_{\\theta}(x) - y) \\frac{\\partial}{\\partial \\theta_i} \\sum\\limits_{i=1}^{m}(\\theta_i x_i - y) \\\\\n",
    "& = ( h_{\\theta}(x) - y) x_i\n",
    "\\end{aligned}"
   ]
  },
  {
   "cell_type": "markdown",
   "metadata": {},
   "source": [
    "The scientists have gone one step further and add it one more variable to the derivate of the cost function J in order to accelarate the formula. This scalar make the gradient more or less steep to coverage faster to the minimum point and it's called learning rate."
   ]
  },
  {
   "cell_type": "markdown",
   "metadata": {},
   "source": [
    "\\begin{equation}\n",
    "\\theta_i := \\theta_i - \\alpha \\frac{\\partial}{\\partial \\theta_i} J(\\theta_i)\n",
    "\\end{equation}"
   ]
  },
  {
   "cell_type": "markdown",
   "metadata": {},
   "source": [
    "The learning rate makes our equation powerful but it comes with a bit of a risk. The value of $\\alpha$ can make gradient descent to coverage or not covarage at all. "
   ]
  },
  {
   "cell_type": "markdown",
   "metadata": {},
   "source": [
    "<img src=\"./images/learning_rate.jpeg\" alt=\"Learning rate\" />"
   ]
  },
  {
   "cell_type": "markdown",
   "metadata": {},
   "source": [
    "In the first graph $\\alpha$ is too small that makes our method slow. On the other hand, in case that $\\alpha$ is too large the steps of each iteration will be that big that it will overshoot the minimum over and over. Therefore, it is suggested to try different values of $\\alpha$ between -1 and 1 to find the sweet spot. Usally, the machine learning engineers use $\\alpha=0.01$ or $\\alpha=0.1$ and increase or decrease the learning rate from there."
   ]
  },
  {
   "cell_type": "markdown",
   "metadata": {},
   "source": [
    "As a result our gradient descent algorithm for two parameters will be:"
   ]
  },
  {
   "cell_type": "markdown",
   "metadata": {},
   "source": [
    "\\begin{align*} \\text{repeat until convergence: } \\lbrace & \\newline \\theta_0 := & \\theta_0 - \\alpha \\frac{1}{m} \\sum\\limits_{i=1}^{m}(h_\\theta(x_{i}) - y_{i}) \\newline \\theta_1 := & \\theta_1 - \\alpha \\frac{1}{m} \\sum\\limits_{i=1}^{m}\\left((h_\\theta(x_{i}) - y_{i}) x_{i}\\right) \\newline \\rbrace& \\end{align*}"
   ]
  },
  {
   "cell_type": "markdown",
   "metadata": {},
   "source": [
    "That was the theory of gradient descent. It's about time to translate it into code!\n",
    "\n",
    "Tip: Normalize your data : z= (xᵢ — μ)/σ"
   ]
  },
  {
   "cell_type": "code",
   "execution_count": 7,
   "metadata": {},
   "outputs": [
    {
     "name": "stdout",
     "output_type": "stream",
     "text": [
      "[[ 1.          0.17448278]\n",
      " [ 1.          0.17448278]\n",
      " [ 1.          1.26453643]\n",
      " [ 1.         -0.05366798]\n",
      " [ 1.          0.27588312]\n",
      " [ 1.          0.14913269]\n",
      " [ 1.          0.14913269]\n",
      " [ 1.          0.14913269]\n",
      " [ 1.          0.90963524]\n",
      " [ 1.          1.41663694]\n",
      " [ 1.         -0.07901807]\n",
      " [ 1.         -0.07901807]\n",
      " [ 1.          0.42798363]\n",
      " [ 1.          0.42798363]\n",
      " [ 1.          0.42798363]\n",
      " [ 1.          1.9743388 ]\n",
      " [ 1.          1.9743388 ]\n",
      " [ 1.          1.9743388 ]\n",
      " [ 1.         -1.42257257]\n",
      " [ 1.         -0.8648707 ]\n",
      " [ 1.         -0.8648707 ]\n",
      " [ 1.         -0.91557087]\n",
      " [ 1.         -0.91557087]\n",
      " [ 1.         -0.05366798]\n",
      " [ 1.         -0.91557087]\n",
      " [ 1.         -0.91557087]\n",
      " [ 1.         -0.91557087]\n",
      " [ 1.         -0.05366798]\n",
      " [ 1.         -0.40856917]\n",
      " [ 1.          1.03638566]\n",
      " [ 1.         -1.16907172]\n",
      " [ 1.         -0.71277019]\n",
      " [ 1.         -1.11837155]\n",
      " [ 1.         -0.71277019]\n",
      " [ 1.         -0.71277019]\n",
      " [ 1.         -0.71277019]\n",
      " [ 1.         -0.71277019]\n",
      " [ 1.         -0.45926934]\n",
      " [ 1.         -0.45926934]\n",
      " [ 1.         -0.45926934]\n",
      " [ 1.         -0.45926934]\n",
      " [ 1.         -0.07901807]\n",
      " [ 1.         -0.10436815]\n",
      " [ 1.         -0.66207002]\n",
      " [ 1.         -0.8648707 ]\n",
      " [ 1.         -0.8648707 ]\n",
      " [ 1.         -0.357869  ]\n",
      " [ 1.          1.82223829]\n",
      " [ 1.          1.82223829]\n",
      " [ 1.          4.00234559]\n",
      " [ 1.         -0.91557087]\n",
      " [ 1.         -0.91557087]\n",
      " [ 1.         -0.91557087]\n",
      " [ 1.         -0.91557087]\n",
      " [ 1.         -0.91557087]\n",
      " [ 1.         -0.07901807]\n",
      " [ 1.         -0.07901807]\n",
      " [ 1.         -0.07901807]\n",
      " [ 1.          0.78288482]\n",
      " [ 1.         -0.50996951]\n",
      " [ 1.         -0.50996951]\n",
      " [ 1.         -0.50996951]\n",
      " [ 1.         -0.50996951]\n",
      " [ 1.         -1.01697121]\n",
      " [ 1.         -0.50996951]\n",
      " [ 1.          0.40263354]\n",
      " [ 1.         -0.81417053]\n",
      " [ 1.          0.4786838 ]\n",
      " [ 1.          0.4786838 ]\n",
      " [ 1.          0.4786838 ]\n",
      " [ 1.          0.4786838 ]\n",
      " [ 1.          1.28988651]\n",
      " [ 1.          1.28988651]\n",
      " [ 1.          2.02503897]\n",
      " [ 1.          2.02503897]\n",
      " [ 1.          1.79688821]\n",
      " [ 1.         -0.91557087]\n",
      " [ 1.         -0.91557087]\n",
      " [ 1.         -0.91557087]\n",
      " [ 1.         -0.05366798]\n",
      " [ 1.          0.3012332 ]\n",
      " [ 1.         -0.40856917]\n",
      " [ 1.          1.03638566]\n",
      " [ 1.          1.03638566]\n",
      " [ 1.          1.03638566]\n",
      " [ 1.         -0.40856917]\n",
      " [ 1.         -0.40856917]\n",
      " [ 1.          0.3012332 ]\n",
      " [ 1.          0.3012332 ]\n",
      " [ 1.         -0.89022078]\n",
      " [ 1.         -1.24512197]\n",
      " [ 1.         -0.89022078]\n",
      " [ 1.         -0.89022078]\n",
      " [ 1.         -0.89022078]\n",
      " [ 1.         -0.89022078]\n",
      " [ 1.         -0.89022078]\n",
      " [ 1.         -0.89022078]\n",
      " [ 1.         -0.89022078]\n",
      " [ 1.         -0.89022078]\n",
      " [ 1.         -0.18041841]\n",
      " [ 1.         -0.18041841]\n",
      " [ 1.          1.21383626]\n",
      " [ 1.          1.21383626]\n",
      " [ 1.          1.21383626]\n",
      " [ 1.          1.41663694]\n",
      " [ 1.          2.43064033]\n",
      " [ 1.          1.41663694]\n",
      " [ 1.         -0.18041841]\n",
      " [ 1.         -0.23111858]\n",
      " [ 1.         -0.18041841]\n",
      " [ 1.         -0.23111858]\n",
      " [ 1.         -0.23111858]\n",
      " [ 1.         -0.23111858]\n",
      " [ 1.         -0.23111858]\n",
      " [ 1.         -0.23111858]\n",
      " [ 1.         -0.18041841]\n",
      " [ 1.         -0.23111858]\n",
      " [ 1.          0.96033541]\n",
      " [ 1.         -0.91557087]\n",
      " [ 1.         -0.05366798]\n",
      " [ 1.         -0.91557087]\n",
      " [ 1.         -0.91557087]\n",
      " [ 1.         -0.91557087]\n",
      " [ 1.         -0.40856917]\n",
      " [ 1.          1.03638566]\n",
      " [ 1.          0.98568549]\n",
      " [ 1.          2.60809093]\n",
      " [ 1.          2.60809093]\n",
      " [ 1.          2.60809093]\n",
      " [ 1.          4.6614478 ]\n",
      " [ 1.         -0.357869  ]\n",
      " [ 1.         -0.357869  ]\n",
      " [ 1.          0.14913269]\n",
      " [ 1.          0.14913269]\n",
      " [ 1.          0.14913269]\n",
      " [ 1.          0.14913269]\n",
      " [ 1.          1.41663694]\n",
      " [ 1.          1.41663694]\n",
      " [ 1.         -0.89022078]\n",
      " [ 1.         -0.78882045]\n",
      " [ 1.         -0.78882045]\n",
      " [ 1.         -0.56066968]\n",
      " [ 1.         -0.56066968]\n",
      " [ 1.         -0.25646866]\n",
      " [ 1.         -0.56066968]\n",
      " [ 1.          0.17448278]\n",
      " [ 1.         -0.56066968]\n",
      " [ 1.         -0.25646866]\n",
      " [ 1.         -0.56066968]\n",
      " [ 1.          0.17448278]\n",
      " [ 1.         -1.06767138]\n",
      " [ 1.         -1.06767138]\n",
      " [ 1.         -1.06767138]\n",
      " [ 1.         -1.06767138]\n",
      " [ 1.         -1.06767138]\n",
      " [ 1.         -1.06767138]\n",
      " [ 1.         -0.8648707 ]\n",
      " [ 1.         -0.8648707 ]\n",
      " [ 1.         -1.21977189]\n",
      " [ 1.         -1.21977189]\n",
      " [ 1.         -0.8648707 ]\n",
      " [ 1.         -0.8648707 ]\n",
      " [ 1.         -0.8648707 ]\n",
      " [ 1.         -0.8648707 ]\n",
      " [ 1.         -0.8648707 ]\n",
      " [ 1.          0.19983286]\n",
      " [ 1.          0.19983286]\n",
      " [ 1.          0.3012332 ]\n",
      " [ 1.          0.3012332 ]\n",
      " [ 1.          0.3012332 ]\n",
      " [ 1.          0.3012332 ]\n",
      " [ 1.          0.3012332 ]\n",
      " [ 1.          0.3012332 ]\n",
      " [ 1.         -0.30716883]\n",
      " [ 1.         -0.78882045]\n",
      " [ 1.         -0.30716883]\n",
      " [ 1.         -0.30716883]\n",
      " [ 1.         -0.30716883]\n",
      " [ 1.          1.44198702]\n",
      " [ 1.          1.44198702]\n",
      " [ 1.          1.3152366 ]\n",
      " [ 1.          1.3152366 ]\n",
      " [ 1.         -1.32117223]\n",
      " [ 1.         -0.48461943]\n",
      " [ 1.         -1.32117223]\n",
      " [ 1.         -0.48461943]\n",
      " [ 1.         -0.48461943]\n",
      " [ 1.         -0.91557087]\n",
      " [ 1.         -0.10436815]\n",
      " [ 1.         -0.357869  ]\n",
      " [ 1.         -0.357869  ]\n",
      " [ 1.          0.14913269]\n",
      " [ 1.         -0.91557087]\n",
      " [ 1.         -0.40856917]\n",
      " [ 1.          0.25053303]\n",
      " [ 1.          0.25053303]\n",
      " [ 1.          0.25053303]\n",
      " [ 1.          0.25053303]\n",
      " [ 1.          1.46733711]\n",
      " [ 1.          1.46733711]\n",
      " [ 1.          0.25053303]\n",
      " [ 1.          1.41663694]\n",
      " [ 1.          0.75753473]\n",
      " [ 1.          0.04773235]\n",
      " [ 1.          0.25053303]]\n"
     ]
    }
   ],
   "source": [
    "# Initialize target variable\n",
    "y = data['price'].to_numpy()\n",
    "\n",
    "# initialize number of training examples\n",
    "m = y.size\n",
    "\n",
    "# Reshape y or transpose it\n",
    "y = y.reshape(m, 1)\n",
    "\n",
    "# Get your feautures\n",
    "X = data\n",
    "X = X[[\"horsepower\"]].to_numpy()\n",
    "\n",
    "# Normalize your data\n",
    "X_norm = X.copy()\n",
    "mu = np.zeros(X.shape[1])\n",
    "sigma = np.zeros(X.shape[1])\n",
    "\n",
    "mu = np.mean(X, axis = 0)\n",
    "sigma = np.std(X, axis = 0)\n",
    "X_norm = (X - mu) / sigma\n",
    "X = X_norm\n",
    "\n",
    "# Add a column of intercept\n",
    "X = np.hstack((np.ones((m,1)), X))\n",
    "\n",
    "# Initialize fitting parameters\n",
    "theta = np.zeros((2,1))\n",
    "\n",
    "# Initialize gradient descent settings\n",
    "iterations = 2000;\n",
    "alpha = 0.001;\n",
    "\n",
    "print(X)"
   ]
  },
  {
   "cell_type": "code",
   "execution_count": 8,
   "metadata": {},
   "outputs": [],
   "source": [
    "def computeCost(X, y, theta):\n",
    "    \"\"\"\n",
    "    Compute cost for linear regression.\n",
    "    \n",
    "    Parameters\n",
    "    ----------\n",
    "    X : array_like\n",
    "        The values that represents the input features + the intercept point\n",
    "        of shape (m x n+1), where m is the number of examples, and n is the\n",
    "        number of features.\n",
    "    y : array_like\n",
    "        The target variable. It is a vector of shape (m, ).\n",
    "    \n",
    "    theta : array_like\n",
    "        A vector of shape (n+1, ) which represents the parameters.\n",
    "    \n",
    "    Returns\n",
    "    -------\n",
    "    J : float - The value of the cost function.\n",
    "    \n",
    "    \"\"\"\n",
    "    \n",
    "    # number of training examples\n",
    "    m = np.size(y, axis=0)\n",
    "    \n",
    "    # Initialize cost variable\n",
    "    J = 0\n",
    "    \n",
    "    # initialize hypothesis\n",
    "    h_theta = np.dot(X, theta)\n",
    "    \n",
    "    # Calculate the cost\n",
    "    J = (1/(2 * m)) * np.sum(np.square(np.dot(X, theta) - y))\n",
    "    \n",
    "    # Return Cost\n",
    "    return J\n",
    "\n",
    "def gradientDescent(X, y, theta, alpha, num_iters):\n",
    "    \"\"\"\n",
    "    Performs gradient descent to learn theta\n",
    "    \n",
    "    Parameters\n",
    "    ----------\n",
    "    X : array_like\n",
    "        The values that represents the input features + the intercept point\n",
    "        of shape (m x n+1), where m is the number of examples, and n is the\n",
    "        number of features.\n",
    "    y : array_like\n",
    "        The target variable. It is a vector of shape (m, ).\n",
    "    \n",
    "    theta : array_like\n",
    "        A vector of shape (n+1, ) which represents the parameters.\n",
    "    \n",
    "    Returns\n",
    "    -------\n",
    "    theta: array_like - The optimal parameters\n",
    "    J_history : array_like - The history of the cost.\n",
    "    \n",
    "    \"\"\"\n",
    "    # number of training examples\n",
    "    m = np.size(y, axis=0)\n",
    "    \n",
    "    # Initialize some useful values\n",
    "    J_history = []\n",
    "    \n",
    "    # are passed by reference to functions\n",
    "    theta = theta.copy()\n",
    "    \n",
    "    for iter in range(num_iters):\n",
    "        # initialize hypothesis\n",
    "        h_theta = np.dot(X, theta)\n",
    "\n",
    "        # calculate the thetas\n",
    "        # (2,1) = (2,1) - ( 2, 1454  ).dot(1454x1 )\n",
    "        theta = theta - (alpha / m) * (X.T).dot(h_theta - y)\n",
    "        \n",
    "        # Save the cost J in every iteration\n",
    "        J_history.append(computeCost(X, y, theta))\n",
    "    \n",
    "    return theta, J_history"
   ]
  },
  {
   "cell_type": "markdown",
   "metadata": {},
   "source": [
    "Print the theta cost and theta and compare the results with normal equation."
   ]
  },
  {
   "cell_type": "code",
   "execution_count": 9,
   "metadata": {},
   "outputs": [
    {
     "name": "stdout",
     "output_type": "stream",
     "text": [
      "Theta found by gradient descent: [11481.70029204], [5569.60294698]\n"
     ]
    }
   ],
   "source": [
    "# run gradient descent\n",
    "theta, J_history = gradientDescent(X, y, theta, alpha, iterations)\n",
    "\n",
    "# print theta to screen\n",
    "print('Theta found by gradient descent: {0}, {1}'.format(theta[0], theta[1]))"
   ]
  },
  {
   "cell_type": "code",
   "execution_count": 10,
   "metadata": {},
   "outputs": [
    {
     "data": {
      "text/plain": [
       "[<matplotlib.lines.Line2D at 0x11838f88>]"
      ]
     },
     "execution_count": 10,
     "metadata": {},
     "output_type": "execute_result"
    },
    {
     "data": {
      "image/png": "[encoded data removed]",
      "text/plain": [
       "<Figure size 432x288 with 1 Axes>"
      ]
     },
     "metadata": {
      "needs_background": "light"
     },
     "output_type": "display_data"
    }
   ],
   "source": [
    "plt.title(\"Cost over iterations\")\n",
    "plt.plot(J_history, label='Cost function', color='red')"
   ]
  },
  {
   "cell_type": "code",
   "execution_count": 11,
   "metadata": {},
   "outputs": [
    {
     "data": {
      "image/png": "[encoded data removed]",
      "text/plain": [
       "<Figure size 432x288 with 1 Axes>"
      ]
     },
     "metadata": {
      "needs_background": "light"
     },
     "output_type": "display_data"
    }
   ],
   "source": [
    "plt.scatter(data[\"horsepower\"], data[\"price\"])\n",
    "plt.title(\"Our hypothesis fit\")\n",
    "plt.xlabel(\"horsepower\")\n",
    "plt.ylabel(\"price\")\n",
    "\n",
    "plt.plot(data[\"horsepower\"], X.dot(theta), '-', label='Linear regression', color='red')\n",
    "plt.legend(loc='upper right', shadow=True, fontsize='small', numpoints=1)\n",
    "\n",
    "plt.show()"
   ]
  },
  {
   "cell_type": "code",
   "execution_count": 12,
   "metadata": {},
   "outputs": [
    {
     "name": "stdout",
     "output_type": "stream",
     "text": [
      "For horsepower = 72, we predict that Yaris ACTIVE 2020 should cost: 6947.09 euros/dollars \n",
      "\n"
     ]
    }
   ],
   "source": [
    "X_yaris = (72 - mu) / sigma\n",
    "X_yaris = np.array([1, X_yaris[0]])\n",
    "\n",
    "predict = X_yaris.dot(theta)\n",
    "print('For horsepower = 72, we predict that Yaris ACTIVE 2020 should cost: {:.2f} euros/dollars \\n'.format(predict[0]))"
   ]
  },
  {
   "cell_type": "markdown",
   "metadata": {},
   "source": [
    "## Conclusion\n",
    "\n",
    "It's cheaper to get a Yaris ACTIVE by using gradient descent, so consider to suggest it to your car dealer! Beside that, normal equation is an accurate method that finds the global minimun but the inversion term make the calculation hard. Therefore if your dataset it's to large you will need to much computer power to make it happen. On the other hand gradient descent it's a simple concept that can be applied regardless of the size of your dataset. \n",
    "\n",
    "Hope that you enjoyed it as much as I did, thank you!"
   ]
  },
  {
   "cell_type": "code",
   "execution_count": null,
   "metadata": {},
   "outputs": [],
   "source": []
  }
 ],
 "metadata": {
  "kernelspec": {
   "display_name": "Python 3",
   "language": "python",
   "name": "python3"
  },
  "language_info": {
   "codemirror_mode": {
    "name": "ipython",
    "version": 3
   },
   "file_extension": ".py",
   "mimetype": "text/x-python",
   "name": "python",
   "nbconvert_exporter": "python",
   "pygments_lexer": "ipython3",
   "version": "3.8.2"
  }
 },
 "nbformat": 4,
 "nbformat_minor": 4
}
